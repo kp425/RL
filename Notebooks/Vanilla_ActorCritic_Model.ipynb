{
  "nbformat": 4,
  "nbformat_minor": 0,
  "metadata": {
    "colab": {
      "name": "Vanilla ActorCritic Model.ipynb",
      "provenance": []
    },
    "kernelspec": {
      "name": "python3",
      "display_name": "Python 3"
    }
  },
  "cells": [
    {
      "cell_type": "code",
      "metadata": {
        "id": "Xg3wa3BNj0Po",
        "colab_type": "code",
        "colab": {}
      },
      "source": [
        "import tensorflow as tf\n",
        "from tensorflow.keras import layers,Model, Input, Sequential\n",
        "import tensorflow_probability as tfp\n",
        "\n",
        "import gym\n",
        "import numpy as np\n",
        "from collections import deque\n",
        "from IPython.display import clear_output\n",
        "import matplotlib.pyplot as plt\n",
        "%matplotlib inline\n",
        "\n",
        "def plot(frame_idx, rewards):\n",
        "    clear_output(True)\n",
        "    plt.figure(figsize=(20,5))\n",
        "    plt.subplot(131)\n",
        "    plt.title('frame %s. reward: %s' % (frame_idx, rewards[-1]))\n",
        "    plt.plot(rewards)\n",
        "    plt.show()"
      ],
      "execution_count": null,
      "outputs": []
    },
    {
      "cell_type": "code",
      "metadata": {
        "id": "Day9fOHokH2a",
        "colab_type": "code",
        "colab": {}
      },
      "source": [
        "env = gym.make(\"CartPole-v0\")\n",
        "lr = 0.0001"
      ],
      "execution_count": null,
      "outputs": []
    },
    {
      "cell_type": "markdown",
      "metadata": {
        "id": "vgFgISgdLCTs",
        "colab_type": "text"
      },
      "source": [
        "# PyTorch Example in Tensorflow (Learning, but slowly)"
      ]
    },
    {
      "cell_type": "code",
      "metadata": {
        "id": "jM7cjv-NGjwV",
        "colab_type": "code",
        "colab": {
          "base_uri": "https://localhost:8080/",
          "height": 336
        },
        "outputId": "deb87942-09ca-4a3b-cf5c-f3f2088d7b04"
      },
      "source": [
        "class ActorCritic(tf.keras.Model):\n",
        "    def __init__(self, n_inputs, n_outputs):\n",
        "        super(ActorCritic, self).__init__()\n",
        "        self.actor_layers = [layers.Dense(128, input_shape =(n_inputs,), activation = tf.nn.relu), \n",
        "                             layers.Dense(n_outputs, activation = tf.nn.softmax)]\n",
        "        self.critic_layers = [layers.Dense(128, input_shape =(n_inputs,), activation = tf.nn.relu), \n",
        "                              layers.Dense(1, activation = tf.nn.tanh)]\n",
        "        self.actor = Sequential(self.actor_layers)\n",
        "\n",
        "        self.critic = Sequential(self.critic_layers)\n",
        "    \n",
        "    def call(self, inputs):\n",
        "        probs = self.actor(inputs)\n",
        "        dist = tfp.distributions.Categorical(probs = probs)\n",
        "        value = self.critic(inputs)\n",
        "        return dist, value\n",
        "\n",
        "model = ActorCritic(n_inputs= 4, n_outputs= 2)\n",
        "optimizer = tf.keras.optimizers.Adam(learning_rate=lr)\n",
        "\n",
        "def test(n_episodes = 10):\n",
        "    scores = []\n",
        "    for episode in range(n_episodes):\n",
        "        state = env.reset()\n",
        "        done = False\n",
        "        score = 0\n",
        "        while not done:\n",
        "            state = np.expand_dims(state, axis = 0)\n",
        "            dist, value = model(state)\n",
        "            action = dist.sample()\n",
        "            next_state, reward, done, _ = env.step(action.numpy()[0])\n",
        "            score += reward\n",
        "            state = next_state\n",
        "        scores.append(score)\n",
        "    avg_score = sum(scores)/len(scores)\n",
        "    return avg_score\n",
        "\n",
        "\n",
        "def train(n_episodes = 100, max_iter = 1000, gamma = 1.0, update_every = 25):\n",
        "    avg_scores = []\n",
        "    for episode in range(n_episodes):\n",
        "        state = env.reset()\n",
        "        rewards = []\n",
        "        log_probs = []\n",
        "        values = []\n",
        "        tape = tf.GradientTape()\n",
        "        tape.__enter__()\n",
        "        for _ in range(max_iter):\n",
        "            dist, value = model(np.expand_dims(state, axis = 0))\n",
        "            action = dist.sample()\n",
        "            log_prob = dist.log_prob(action)\n",
        "            next_state, reward, done, _ = env.step(action.numpy()[0])\n",
        "            log_probs.append(log_prob)\n",
        "            values.append(value)\n",
        "            rewards.append(reward)\n",
        "            state = next_state\n",
        "            if done:break\n",
        "\n",
        "        returns = []\n",
        "        R = 0\n",
        "        for r in rewards[::-1]:\n",
        "            R = r + gamma*R\n",
        "            returns.insert(0,R)\n",
        "        \n",
        "        log_probs = tf.squeeze(tf.convert_to_tensor(log_probs))\n",
        "        values = tf.squeeze(tf.convert_to_tensor(values))\n",
        "        returns = tf.convert_to_tensor(returns)\n",
        "        returns = tf.stop_gradient(returns - tf.math.reduce_mean(returns))\n",
        "\n",
        "        advantages = tf.stop_gradient(returns - values)\n",
        "        policy_losses = - log_probs * advantages\n",
        "        value_losses = (returns - values)**2\n",
        "        \n",
        "        policy_losses = tf.convert_to_tensor(policy_losses)\n",
        "        value_losses = tf.convert_to_tensor(value_losses)\n",
        "        loss = tf.math.reduce_sum(policy_losses) + tf.math.reduce_sum(value_losses)\n",
        "        tape.__exit__(None, None, None)\n",
        "\n",
        "        grads = tape.gradient(loss, model.trainable_variables)\n",
        "        optimizer.apply_gradients(zip(grads, model.trainable_variables))\n",
        "   \n",
        "        \n",
        "        if episode % update_every == 0 and episode > 0:\n",
        "            avg_score = test()\n",
        "            avg_scores.append(avg_score)\n",
        "            plot(episode, avg_scores )\n",
        "            \n",
        "train(2000)"
      ],
      "execution_count": null,
      "outputs": [
        {
          "output_type": "display_data",
          "data": {
            "image/png": "[encoded data removed]",
            "text/plain": [
              "<Figure size 1440x360 with 1 Axes>"
            ]
          },
          "metadata": {
            "tags": [],
            "needs_background": "light"
          }
        }
      ]
    },
    {
      "cell_type": "markdown",
      "metadata": {
        "id": "vxesb7FoFwtO",
        "colab_type": "text"
      },
      "source": [
        "# One network with Two heads"
      ]
    },
    {
      "cell_type": "code",
      "metadata": {
        "id": "l6qVgpjm-7LN",
        "colab_type": "code",
        "colab": {}
      },
      "source": [
        "inputs = Input(shape=(4,))\n",
        "x = layers.Dense(128, activation = tf.nn.relu)(inputs)\n",
        "policy_head = layers.Dense(2, activation = tf.nn.softmax)(x)\n",
        "value_head = layers.Dense(1)(x)\n",
        "model = Model(inputs = inputs, outputs = [policy_head, value_head])\n",
        "optimizer = tf.keras.optimizers.Adam(learning_rate=lr)\n",
        "\n",
        "def predict(obs):\n",
        "    obs = tf.expand_dims(tf.convert_to_tensor(obs), axis = 0)\n",
        "    probs, value = model(obs)\n",
        "    m = tfp.distributions.Categorical(probs=probs)\n",
        "    action = m.sample()\n",
        "    return action.numpy()[0], m.log_prob(action), value\n",
        "\n",
        "def train(n_episodes = 100, max_iter = 1000, gamma = 1.0, update_every = 25):\n",
        "    scores_window = deque(maxlen = update_every)\n",
        "    for episode in range(n_episodes):\n",
        "        obs = env.reset()\n",
        "        score = 0\n",
        "        for _ in range(max_iter):\n",
        "            with tf.GradientTape(persistent=True) as tape:\n",
        "                action, log_prob, pred_value = predict(obs)\n",
        "                new_obs, reward, done, _ = env.step(action)\n",
        "                _,_, next_value = predict(new_obs)\n",
        "                target = reward + gamma*next_value\n",
        "                # value_loss = tf.keras.losses.mean_squared_error(target, pred_value)\n",
        "                value_loss = (target - pred_value)**2\n",
        "                policy_loss = -log_prob * (target-pred_value)\n",
        "                loss = value_loss + policy_loss\n",
        "\n",
        "            grads = tape.gradient(loss, model.trainable_variables)\n",
        "            optimizer.apply_gradients(zip(grads, model.trainable_variables))\n",
        "            obs = new_obs\n",
        "            score += reward\n",
        "            if done:break\n",
        "\n",
        "        scores_window.append(score)\n",
        "        \n",
        "        if episode % update_every == 0 and episode > 0:\n",
        "            print(\"episode {}   AverageScore {}\".format(episode, np.mean(scores_window)))        \n",
        "\n",
        "train(2000)"
      ],
      "execution_count": null,
      "outputs": []
    },
    {
      "cell_type": "markdown",
      "metadata": {
        "id": "tMSTeiAo-0qE",
        "colab_type": "text"
      },
      "source": [
        "# Seperate Value and Policy networks"
      ]
    },
    {
      "cell_type": "code",
      "metadata": {
        "id": "0tn69Pk-lkTU",
        "colab_type": "code",
        "colab": {}
      },
      "source": [
        "inputs = Input(shape=(4,))\n",
        "x = layers.Dense(128, activation = tf.nn.relu)(inputs)\n",
        "outputs = layers.Dense(2, activation = tf.nn.softmax)(x)\n",
        "policy_est = Model(inputs = inputs, outputs = outputs)\n",
        "\n",
        "inputs = Input(shape=(4,))\n",
        "x = layers.Dense(128, activation = tf.nn.relu)(inputs)\n",
        "outputs = layers.Dense(1)(x)\n",
        "value_est = Model(inputs = inputs, outputs = outputs)\n",
        "\n",
        "policy_opt = tf.keras.optimizers.Adam(learning_rate=lr)\n",
        "value_opt = tf.keras.optimizers.Adam(learning_rate=lr)\n",
        "\n",
        "def predict_action(obs):\n",
        "    obs = tf.expand_dims(tf.convert_to_tensor(obs), axis = 0)\n",
        "    probs = policy_est(obs)\n",
        "    m = tfp.distributions.Categorical(probs=probs)\n",
        "    action = m.sample()\n",
        "    return action.numpy()[0],m.log_prob(action)\n",
        "\n",
        "def predict_value(obs):\n",
        "    obs = tf.expand_dims(tf.convert_to_tensor(obs), axis = 0)\n",
        "    value = value_est(obs)\n",
        "    return value\n",
        "\n",
        "def train(n_episodes = 100, max_iter = 1000, gamma = 1.0, update_every = 25):\n",
        "    scores_window = deque(maxlen = update_every)\n",
        "    for episode in range(n_episodes):\n",
        "        obs = env.reset()\n",
        "        score = 0\n",
        "        for _ in range(max_iter):\n",
        "            with tf.GradientTape(persistent=True) as tape:\n",
        "                action, log_prob = predict_action(obs)\n",
        "                new_obs, reward, done, _ = env.step(action)\n",
        "                pred_value = predict_value(obs)\n",
        "                target = reward + gamma*predict_value(new_obs)\n",
        "                value_loss = tf.keras.losses.mean_squared_error(target, pred_value)\n",
        "                policy_loss = -log_prob * (target-pred_value)\n",
        "\n",
        "            grads = tape.gradient(value_loss, value_est.trainable_variables)\n",
        "            value_opt.apply_gradients(zip(grads,value_est.trainable_variables))\n",
        "            grads_ = tape.gradient(policy_loss, policy_est.trainable_variables)\n",
        "            policy_opt.apply_gradients(zip(grads_, policy_est.trainable_variables))\n",
        "            obs = new_obs\n",
        "            score += reward\n",
        "            if done:break\n",
        "        scores_window.append(score)\n",
        "        \n",
        "        if episode % update_every == 0 and episode > 0:\n",
        "            print(\"episode {}   AverageScore {}\".format(episode, np.mean(scores_window)))        \n",
        "\n",
        "train(500)\n"
      ],
      "execution_count": null,
      "outputs": []
    },
    {
      "cell_type": "code",
      "metadata": {
        "id": "dK83A-dBDohW",
        "colab_type": "code",
        "colab": {
          "base_uri": "https://localhost:8080/",
          "height": 34
        },
        "outputId": "ad85cf87-e9e6-453d-b7f9-aec82123d2a9"
      },
      "source": [
        "r = tf.convert_to_tensor([1.0,2.0,3.0,4.0,5.0])\n",
        "v = tf.convert_to_tensor([10.0,20.0,30.0,40.0,50.0])\n",
        "\n",
        "adv = tf.stop_gradient(r-v)\n",
        "\n",
        "\n",
        "with tf.GradientTape(persistent=True) as tape:\n",
        "\n",
        "    tape.watch(v)\n",
        "    pl = tf.math.log(v) * adv\n",
        "    vl = (r-v)**2\n",
        "grads = tape.gradient(vl,v)\n",
        "\n",
        "print(grads)\n"
      ],
      "execution_count": null,
      "outputs": [
        {
          "output_type": "stream",
          "text": [
            "tf.Tensor([18. 36. 54. 72. 90.], shape=(5,), dtype=float32)\n"
          ],
          "name": "stdout"
        }
      ]
    }
  ]
}